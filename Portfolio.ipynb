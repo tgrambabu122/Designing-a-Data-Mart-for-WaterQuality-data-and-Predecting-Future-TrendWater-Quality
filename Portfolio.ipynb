{
 "cells": [
  {
   "cell_type": "code",
   "execution_count": 1,
   "id": "031d5904",
   "metadata": {},
   "outputs": [
    {
     "name": "stdout",
     "output_type": "stream",
     "text": [
      "Requirement already satisfied: cx_Oracle in c:\\institutions\\gre\\apps\\anaconda3-2021.05\\lib\\site-packages (8.3.0)\n"
     ]
    }
   ],
   "source": [
    "#library for connceting oracle server\n",
    "!pip install cx_Oracle\n"
   ]
  },
  {
   "cell_type": "code",
   "execution_count": 2,
   "id": "481a68ff",
   "metadata": {
    "scrolled": true
   },
   "outputs": [],
   "source": [
    "#oracle client library\n",
    "import cx_Oracle\n",
    "import os\n",
    "directory_path = os.getcwd() + \"\\instantclient-basic-windows.x64-21.3.0.0.0\\instantclient_21_3\"\n",
    "\n",
    "cx_Oracle.init_oracle_client(lib_dir= directory_path)"
   ]
  },
  {
   "cell_type": "code",
   "execution_count": 3,
   "id": "6113121e",
   "metadata": {},
   "outputs": [],
   "source": [
    "#Credentials for accessing the oracle database\n",
    "my_username = \"rg0002d\"\n",
    "my_password = \"rg0002d\"\n",
    "\n",
    "connection = cx_Oracle.connect(user=my_username, password=my_password, dsn=\"OBIWAN\")"
   ]
  },
  {
   "cell_type": "code",
   "execution_count": 4,
   "id": "d2eb1a31",
   "metadata": {},
   "outputs": [],
   "source": [
    "#Importing the required module \n",
    "\n",
    "import numpy as np\n",
    "import pandas as pd\n",
    "from pandas import DataFrame\n",
    "import matplotlib.pyplot as plt\n",
    "import seaborn as sns \n",
    "%matplotlib inline"
   ]
  },
  {
   "cell_type": "code",
   "execution_count": 5,
   "id": "c4126979",
   "metadata": {},
   "outputs": [],
   "source": [
    "#Using Cursors fetching the Ph water sensor data using queries form oracle db\n",
    "with connection.cursor() as cursor:\n",
    "    cursor.execute(\"SELECT d.DETERMINANDLABEL as SENSOR_TYPE,s.SAMPLESAMPLINGPOINTLABEL as LOCATION,f.samplesampledmaterialtypelabel,s.sampleiscompliancesample,t.YEAR ,round(AVG(f.RESULT),2) as yearly_average  FROM fact_watersensor f,dim_time t,dim_sample s,dim_determinant d  where f.time_id = t.time_id and f.sample_id = s.sample_id  and f.DETERMINANDNOTATION = d.DETERMINANDNOTATION and d.DETERMINANDLABEL = 'pH'  group by s.SAMPLESAMPLINGPOINTLABEL,t.year,d.DETERMINANDLABEL,f.samplesampledmaterialtypelabel,s.sampleiscompliancesample order by t.year\")\n",
    "    df = DataFrame(cursor.fetchall())\n",
    "    df.columns = [x[0] for x in cursor.description]\n"
   ]
  },
  {
   "cell_type": "code",
   "execution_count": 6,
   "id": "48a3763d",
   "metadata": {},
   "outputs": [
    {
     "name": "stdout",
     "output_type": "stream",
     "text": [
      "<class 'pandas.core.frame.DataFrame'>\n",
      "RangeIndex: 143 entries, 0 to 142\n",
      "Data columns (total 6 columns):\n",
      " #   Column                          Non-Null Count  Dtype  \n",
      "---  ------                          --------------  -----  \n",
      " 0   SENSOR_TYPE                     143 non-null    object \n",
      " 1   LOCATION                        143 non-null    object \n",
      " 2   SAMPLESAMPLEDMATERIALTYPELABEL  143 non-null    object \n",
      " 3   SAMPLEISCOMPLIANCESAMPLE        143 non-null    object \n",
      " 4   YEAR                            143 non-null    object \n",
      " 5   YEARLY_AVERAGE                  143 non-null    float64\n",
      "dtypes: float64(1), object(5)\n",
      "memory usage: 6.8+ KB\n"
     ]
    }
   ],
   "source": [
    "#Description of the dataframe \n",
    "df.info()"
   ]
  },
  {
   "cell_type": "code",
   "execution_count": 7,
   "id": "0bb75476",
   "metadata": {},
   "outputs": [
    {
     "data": {
      "text/html": [
       "<div>\n",
       "<style scoped>\n",
       "    .dataframe tbody tr th:only-of-type {\n",
       "        vertical-align: middle;\n",
       "    }\n",
       "\n",
       "    .dataframe tbody tr th {\n",
       "        vertical-align: top;\n",
       "    }\n",
       "\n",
       "    .dataframe thead th {\n",
       "        text-align: right;\n",
       "    }\n",
       "</style>\n",
       "<table border=\"1\" class=\"dataframe\">\n",
       "  <thead>\n",
       "    <tr style=\"text-align: right;\">\n",
       "      <th></th>\n",
       "      <th>SENSOR_TYPE</th>\n",
       "      <th>LOCATION</th>\n",
       "      <th>SAMPLESAMPLEDMATERIALTYPELABEL</th>\n",
       "      <th>SAMPLEISCOMPLIANCESAMPLE</th>\n",
       "      <th>YEAR</th>\n",
       "      <th>YEARLY_AVERAGE</th>\n",
       "    </tr>\n",
       "  </thead>\n",
       "  <tbody>\n",
       "    <tr>\n",
       "      <th>0</th>\n",
       "      <td>pH</td>\n",
       "      <td>R.OUSE A422 RD.BR.BRACKLEY</td>\n",
       "      <td>RIVER / RUNNING SURFACE WATER</td>\n",
       "      <td>FALSE</td>\n",
       "      <td>2000</td>\n",
       "      <td>8.22</td>\n",
       "    </tr>\n",
       "    <tr>\n",
       "      <th>1</th>\n",
       "      <td>pH</td>\n",
       "      <td>R.OUSE BOURTON MILL</td>\n",
       "      <td>RIVER / RUNNING SURFACE WATER</td>\n",
       "      <td>FALSE</td>\n",
       "      <td>2000</td>\n",
       "      <td>8.23</td>\n",
       "    </tr>\n",
       "    <tr>\n",
       "      <th>2</th>\n",
       "      <td>pH</td>\n",
       "      <td>R.OUSE FULWELL CROSSING</td>\n",
       "      <td>RIVER / RUNNING SURFACE WATER</td>\n",
       "      <td>FALSE</td>\n",
       "      <td>2000</td>\n",
       "      <td>8.22</td>\n",
       "    </tr>\n",
       "    <tr>\n",
       "      <th>3</th>\n",
       "      <td>pH</td>\n",
       "      <td>R.OUSE WATER STRATFORD RD.BR.</td>\n",
       "      <td>RIVER / RUNNING SURFACE WATER</td>\n",
       "      <td>FALSE</td>\n",
       "      <td>2000</td>\n",
       "      <td>8.18</td>\n",
       "    </tr>\n",
       "    <tr>\n",
       "      <th>4</th>\n",
       "      <td>pH</td>\n",
       "      <td>RED HOUSE NURSING HOME SYRESHAM</td>\n",
       "      <td>FINAL SEWAGE EFFLUENT</td>\n",
       "      <td>FALSE</td>\n",
       "      <td>2000</td>\n",
       "      <td>7.20</td>\n",
       "    </tr>\n",
       "    <tr>\n",
       "      <th>...</th>\n",
       "      <td>...</td>\n",
       "      <td>...</td>\n",
       "      <td>...</td>\n",
       "      <td>...</td>\n",
       "      <td>...</td>\n",
       "      <td>...</td>\n",
       "    </tr>\n",
       "    <tr>\n",
       "      <th>138</th>\n",
       "      <td>pH</td>\n",
       "      <td>R.TOVE CAPPENHAM BRIDGE</td>\n",
       "      <td>RIVER / RUNNING SURFACE WATER</td>\n",
       "      <td>FALSE</td>\n",
       "      <td>2016</td>\n",
       "      <td>8.00</td>\n",
       "    </tr>\n",
       "    <tr>\n",
       "      <th>139</th>\n",
       "      <td>pH</td>\n",
       "      <td>R.TOVE COSGROVE PARK FT.BR.</td>\n",
       "      <td>RIVER / RUNNING SURFACE WATER</td>\n",
       "      <td>FALSE</td>\n",
       "      <td>2016</td>\n",
       "      <td>8.11</td>\n",
       "    </tr>\n",
       "    <tr>\n",
       "      <th>140</th>\n",
       "      <td>pH</td>\n",
       "      <td>SILVERSTONE BK.A43 RD.BR.</td>\n",
       "      <td>ANY WATER</td>\n",
       "      <td>FALSE</td>\n",
       "      <td>2016</td>\n",
       "      <td>7.91</td>\n",
       "    </tr>\n",
       "    <tr>\n",
       "      <th>141</th>\n",
       "      <td>pH</td>\n",
       "      <td>SILVERSTONE BK.A43 RD.BR.</td>\n",
       "      <td>RIVER / RUNNING SURFACE WATER</td>\n",
       "      <td>FALSE</td>\n",
       "      <td>2016</td>\n",
       "      <td>7.82</td>\n",
       "    </tr>\n",
       "    <tr>\n",
       "      <th>142</th>\n",
       "      <td>pH</td>\n",
       "      <td>SULGRAVE BK.WESTON RD.BR.</td>\n",
       "      <td>RIVER / RUNNING SURFACE WATER</td>\n",
       "      <td>FALSE</td>\n",
       "      <td>2016</td>\n",
       "      <td>8.29</td>\n",
       "    </tr>\n",
       "  </tbody>\n",
       "</table>\n",
       "<p>143 rows × 6 columns</p>\n",
       "</div>"
      ],
      "text/plain": [
       "    SENSOR_TYPE                         LOCATION  \\\n",
       "0            pH       R.OUSE A422 RD.BR.BRACKLEY   \n",
       "1            pH              R.OUSE BOURTON MILL   \n",
       "2            pH          R.OUSE FULWELL CROSSING   \n",
       "3            pH    R.OUSE WATER STRATFORD RD.BR.   \n",
       "4            pH  RED HOUSE NURSING HOME SYRESHAM   \n",
       "..          ...                              ...   \n",
       "138          pH          R.TOVE CAPPENHAM BRIDGE   \n",
       "139          pH      R.TOVE COSGROVE PARK FT.BR.   \n",
       "140          pH        SILVERSTONE BK.A43 RD.BR.   \n",
       "141          pH        SILVERSTONE BK.A43 RD.BR.   \n",
       "142          pH        SULGRAVE BK.WESTON RD.BR.   \n",
       "\n",
       "    SAMPLESAMPLEDMATERIALTYPELABEL SAMPLEISCOMPLIANCESAMPLE  YEAR  \\\n",
       "0    RIVER / RUNNING SURFACE WATER                    FALSE  2000   \n",
       "1    RIVER / RUNNING SURFACE WATER                    FALSE  2000   \n",
       "2    RIVER / RUNNING SURFACE WATER                    FALSE  2000   \n",
       "3    RIVER / RUNNING SURFACE WATER                    FALSE  2000   \n",
       "4            FINAL SEWAGE EFFLUENT                    FALSE  2000   \n",
       "..                             ...                      ...   ...   \n",
       "138  RIVER / RUNNING SURFACE WATER                    FALSE  2016   \n",
       "139  RIVER / RUNNING SURFACE WATER                    FALSE  2016   \n",
       "140                      ANY WATER                    FALSE  2016   \n",
       "141  RIVER / RUNNING SURFACE WATER                    FALSE  2016   \n",
       "142  RIVER / RUNNING SURFACE WATER                    FALSE  2016   \n",
       "\n",
       "     YEARLY_AVERAGE  \n",
       "0              8.22  \n",
       "1              8.23  \n",
       "2              8.22  \n",
       "3              8.18  \n",
       "4              7.20  \n",
       "..              ...  \n",
       "138            8.00  \n",
       "139            8.11  \n",
       "140            7.91  \n",
       "141            7.82  \n",
       "142            8.29  \n",
       "\n",
       "[143 rows x 6 columns]"
      ]
     },
     "execution_count": 7,
     "metadata": {},
     "output_type": "execute_result"
    }
   ],
   "source": [
    "#Overview of the dataframe \n",
    "df"
   ]
  },
  {
   "cell_type": "code",
   "execution_count": 8,
   "id": "0ab3b9aa",
   "metadata": {},
   "outputs": [
    {
     "data": {
      "text/plain": [
       "SENSOR_TYPE                       0\n",
       "LOCATION                          0\n",
       "SAMPLESAMPLEDMATERIALTYPELABEL    0\n",
       "SAMPLEISCOMPLIANCESAMPLE          0\n",
       "YEAR                              0\n",
       "YEARLY_AVERAGE                    0\n",
       "dtype: int64"
      ]
     },
     "execution_count": 8,
     "metadata": {},
     "output_type": "execute_result"
    }
   ],
   "source": [
    "#Validating Null values\n",
    "df.isna().sum()"
   ]
  },
  {
   "cell_type": "code",
   "execution_count": 9,
   "id": "8a1e6bef",
   "metadata": {},
   "outputs": [
    {
     "data": {
      "text/html": [
       "<div>\n",
       "<style scoped>\n",
       "    .dataframe tbody tr th:only-of-type {\n",
       "        vertical-align: middle;\n",
       "    }\n",
       "\n",
       "    .dataframe tbody tr th {\n",
       "        vertical-align: top;\n",
       "    }\n",
       "\n",
       "    .dataframe thead th {\n",
       "        text-align: right;\n",
       "    }\n",
       "</style>\n",
       "<table border=\"1\" class=\"dataframe\">\n",
       "  <thead>\n",
       "    <tr style=\"text-align: right;\">\n",
       "      <th></th>\n",
       "      <th>count</th>\n",
       "      <th>mean</th>\n",
       "      <th>std</th>\n",
       "      <th>min</th>\n",
       "      <th>25%</th>\n",
       "      <th>50%</th>\n",
       "      <th>75%</th>\n",
       "      <th>max</th>\n",
       "    </tr>\n",
       "  </thead>\n",
       "  <tbody>\n",
       "    <tr>\n",
       "      <th>YEARLY_AVERAGE</th>\n",
       "      <td>143.0</td>\n",
       "      <td>7.992517</td>\n",
       "      <td>0.27286</td>\n",
       "      <td>6.19</td>\n",
       "      <td>7.93</td>\n",
       "      <td>8.05</td>\n",
       "      <td>8.135</td>\n",
       "      <td>8.84</td>\n",
       "    </tr>\n",
       "  </tbody>\n",
       "</table>\n",
       "</div>"
      ],
      "text/plain": [
       "                count      mean      std   min   25%   50%    75%   max\n",
       "YEARLY_AVERAGE  143.0  7.992517  0.27286  6.19  7.93  8.05  8.135  8.84"
      ]
     },
     "execution_count": 9,
     "metadata": {},
     "output_type": "execute_result"
    }
   ],
   "source": [
    "#description of the dependent variable\n",
    "df.describe().T"
   ]
  },
  {
   "cell_type": "code",
   "execution_count": 10,
   "id": "740c3ed8",
   "metadata": {},
   "outputs": [],
   "source": [
    "#Removing the non required columns \n",
    "df.drop('SENSOR_TYPE', axis=1,inplace = True)\n"
   ]
  },
  {
   "cell_type": "code",
   "execution_count": 11,
   "id": "c421f8ca",
   "metadata": {},
   "outputs": [
    {
     "name": "stderr",
     "output_type": "stream",
     "text": [
      "C:\\Institutions\\Gre\\Apps\\Anaconda3-2021.05\\lib\\site-packages\\seaborn\\distributions.py:2557: FutureWarning: `distplot` is a deprecated function and will be removed in a future version. Please adapt your code to use either `displot` (a figure-level function with similar flexibility) or `histplot` (an axes-level function for histograms).\n",
      "  warnings.warn(msg, FutureWarning)\n"
     ]
    },
    {
     "data": {
      "image/png": "[encoded data removed]",
      "text/plain": [
       "<Figure size 842.4x595.44 with 1 Axes>"
      ]
     },
     "metadata": {},
     "output_type": "display_data"
    }
   ],
   "source": [
    "#Plotting standard normal distribution for dependent value \n",
    "    sns.set(rc={'figure.figsize':(11.7,8.27)})\n",
    "    sns.distplot(df['YEARLY_AVERAGE'], bins=30)\n",
    "    plt.show()"
   ]
  },
  {
   "cell_type": "code",
   "execution_count": 12,
   "id": "d57d081a",
   "metadata": {
    "scrolled": true
   },
   "outputs": [],
   "source": [
    "#Encoding the categorical columns to quantitative \n",
    "from sklearn.preprocessing import LabelEncoder \n",
    "le = LabelEncoder()\n",
    "df['SAMPLESAMPLEDMATERIALTYPELABEL'] = le.fit_transform(df['SAMPLESAMPLEDMATERIALTYPELABEL'])\n",
    "df['LOCATION'] = le.fit_transform(df['LOCATION'])\n",
    "df['SAMPLEISCOMPLIANCESAMPLE'] = le.fit_transform(df['SAMPLEISCOMPLIANCESAMPLE'])"
   ]
  },
  {
   "cell_type": "code",
   "execution_count": 13,
   "id": "0359a92b",
   "metadata": {},
   "outputs": [],
   "source": [
    "#Seperating the Dependent y and Independent X features \n",
    "X = df.iloc[:,:-1].values  #independent variable array\n",
    "y = df.iloc[:,4].values #dependent variable vector"
   ]
  },
  {
   "cell_type": "code",
   "execution_count": 14,
   "id": "4d18f18a",
   "metadata": {},
   "outputs": [],
   "source": [
    "#Enforcing Min-Max Scaling \n",
    "from sklearn.preprocessing import MinMaxScaler\n",
    "X = MinMaxScaler().fit_transform(X)"
   ]
  },
  {
   "cell_type": "code",
   "execution_count": 15,
   "id": "461571cd",
   "metadata": {},
   "outputs": [],
   "source": [
    "#Splitting into training and test data \n",
    "from sklearn.model_selection import train_test_split\n",
    "X_train, X_test, y_train, y_test = train_test_split(X, y, train_size=.70, random_state=8)"
   ]
  },
  {
   "cell_type": "code",
   "execution_count": 16,
   "id": "62dce69f",
   "metadata": {},
   "outputs": [
    {
     "name": "stdout",
     "output_type": "stream",
     "text": [
      "8.243231978180656\n",
      "[ 0.1257519  -0.18971538 -0.51190797 -0.17162799]\n"
     ]
    }
   ],
   "source": [
    "#Impleneting the data values in Linear Regressor function\n",
    "from sklearn.linear_model import LinearRegression\n",
    "regressor = LinearRegression()\n",
    "regressor.fit(X_train,y_train) #actually produces the linear eqn for the data\n",
    "print(regressor.intercept_)\n",
    "print(regressor.coef_)"
   ]
  },
  {
   "cell_type": "code",
   "execution_count": 17,
   "id": "5e3609c4",
   "metadata": {},
   "outputs": [
    {
     "data": {
      "text/plain": [
       "array([7.9950616 , 8.04223138, 7.99513141, 7.97573949, 8.25068092,\n",
       "       7.99300002, 8.02297907, 8.06155349, 8.02311869, 8.06134406,\n",
       "       8.13450934, 8.06368487, 8.07661282, 7.98433485, 8.09586512,\n",
       "       7.89893971, 8.00365696, 8.13024657, 7.999464  , 8.13877212,\n",
       "       8.09806632, 7.95662681, 8.11305584, 7.62339875, 7.94583025,\n",
       "       7.99520122, 7.96714413, 7.97566968, 7.96927552, 8.02077788,\n",
       "       8.0808756 , 7.94369886, 8.00771031, 7.78425966, 7.49694877,\n",
       "       7.94163728, 8.05061731, 8.01410448, 7.88828277, 7.52671839,\n",
       "       8.07274873, 8.05082674, 7.97787088])"
      ]
     },
     "execution_count": 17,
     "metadata": {},
     "output_type": "execute_result"
    }
   ],
   "source": [
    "#Predicting the values for X train\n",
    "y_pred = regressor.predict(X_test)\n",
    "y_pred"
   ]
  },
  {
   "cell_type": "code",
   "execution_count": 18,
   "id": "130ed9f8",
   "metadata": {},
   "outputs": [
    {
     "data": {
      "text/plain": [
       "<AxesSubplot:>"
      ]
     },
     "execution_count": 18,
     "metadata": {},
     "output_type": "execute_result"
    },
    {
     "data": {
      "image/png": "[encoded data removed]",
      "text/plain": [
       "<Figure size 842.4x595.44 with 1 Axes>"
      ]
     },
     "metadata": {},
     "output_type": "display_data"
    }
   ],
   "source": [
    "#Plotting the result based on the graph \n",
    "import seaborn as sns\n",
    "sns.regplot(x=y_test,y=y_pred)"
   ]
  },
  {
   "cell_type": "code",
   "execution_count": 19,
   "id": "e46ab90b",
   "metadata": {},
   "outputs": [
    {
     "name": "stdout",
     "output_type": "stream",
     "text": [
      "MAE: 0.13989675738146\n",
      "MSE: 0.05334645972185372\n",
      "RMSE: 0.23096852539221382\n",
      "R2 score is 0.17510257924101968\n"
     ]
    }
   ],
   "source": [
    "#Calculating MSE,MAE and RMSE and R2\n",
    "from sklearn import metrics\n",
    "from sklearn.metrics import r2_score\n",
    "print('MAE:', metrics.mean_absolute_error(y_test, y_pred))\n",
    "print('MSE:', metrics.mean_squared_error(y_test, y_pred))\n",
    "print('RMSE:', np.sqrt(metrics.mean_squared_error(y_test, y_pred)))\n",
    "print('R2 score is {}'.format(r2_score(y_test, y_pred)))"
   ]
  },
  {
   "cell_type": "code",
   "execution_count": 20,
   "id": "0ac9e389",
   "metadata": {},
   "outputs": [
    {
     "data": {
      "image/png": "[encoded data removed]",
      "text/plain": [
       "<Figure size 842.4x595.44 with 1 Axes>"
      ]
     },
     "metadata": {},
     "output_type": "display_data"
    }
   ],
   "source": [
    "#Enforcing Cross validation for better results of the model\n",
    "from sklearn.linear_model import LinearRegression\n",
    "from sklearn.model_selection import cross_val_predict\n",
    "regressor = LinearRegression()\n",
    "# cross_val_predict returns an array of the same size as `y` where each entry\n",
    "# is a prediction obtained by cross validation:\n",
    "predicted_dat = cross_val_predict(regressor, X, y, cv=10)\n",
    "\n",
    "fig, ax = plt.subplots()\n",
    "ax.scatter(y, predicted_dat, edgecolors=(0, 0, 0))\n",
    "ax.plot([y.min(), y.max()], [y.min(), y.max()], \"k--\", lw=4)\n",
    "ax.set_xlabel(\"Given data values\")\n",
    "ax.set_ylabel(\"Predicted predicted data values\")\n",
    "plt.show()"
   ]
  },
  {
   "cell_type": "code",
   "execution_count": null,
   "id": "036cff6b",
   "metadata": {},
   "outputs": [],
   "source": []
  },
  {
   "cell_type": "code",
   "execution_count": null,
   "id": "5e4fbb69",
   "metadata": {},
   "outputs": [],
   "source": []
  }
 ],
 "metadata": {
  "kernelspec": {
   "display_name": "Python 3",
   "language": "python",
   "name": "python3"
  },
  "language_info": {
   "codemirror_mode": {
    "name": "ipython",
    "version": 3
   },
   "file_extension": ".py",
   "mimetype": "text/x-python",
   "name": "python",
   "nbconvert_exporter": "python",
   "pygments_lexer": "ipython3",
   "version": "3.8.8"
  }
 },
 "nbformat": 4,
 "nbformat_minor": 5
}
